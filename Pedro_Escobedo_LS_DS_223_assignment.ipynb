{
  "nbformat": 4,
  "nbformat_minor": 0,
  "metadata": {
    "kernelspec": {
      "display_name": "Python 3",
      "language": "python",
      "name": "python3"
    },
    "language_info": {
      "codemirror_mode": {
        "name": "ipython",
        "version": 3
      },
      "file_extension": ".py",
      "mimetype": "text/x-python",
      "name": "python",
      "nbconvert_exporter": "python",
      "pygments_lexer": "ipython3",
      "version": "3.7.3"
    },
    "colab": {
      "name": "Pedro Escobedo LS_DS_223_assignment.ipynb",
      "provenance": [],
      "collapsed_sections": [],
      "include_colab_link": true
    }
  },
  "cells": [
    {
      "cell_type": "markdown",
      "metadata": {
        "id": "view-in-github",
        "colab_type": "text"
      },
      "source": [
        "<a href=\"https://colab.research.google.com/github/pedroescobedob/DS-Unit-2-Kaggle-Challenge/blob/master/Pedro_Escobedo_LS_DS_223_assignment.ipynb\" target=\"_parent\"><img src=\"https://colab.research.google.com/assets/colab-badge.svg\" alt=\"Open In Colab\"/></a>"
      ]
    },
    {
      "cell_type": "markdown",
      "metadata": {
        "id": "KW0es1d4oljd",
        "colab_type": "text"
      },
      "source": [
        "Lambda School Data Science\n",
        "\n",
        "*Unit 2, Sprint 2, Module 3*\n",
        "\n",
        "---"
      ]
    },
    {
      "cell_type": "markdown",
      "metadata": {
        "id": "UNF7KCtooljf",
        "colab_type": "text"
      },
      "source": [
        "# Cross-Validation\n",
        "\n",
        "\n",
        "## Assignment\n",
        "- [ ] [Review requirements for your portfolio project](https://lambdaschool.github.io/ds/unit2), then submit your dataset.\n",
        "- [ ] Continue to participate in our Kaggle challenge. \n",
        "- [ ] Use scikit-learn for hyperparameter optimization with RandomizedSearchCV.\n",
        "- [ ] Submit your predictions to our Kaggle competition. (Go to our Kaggle InClass competition webpage. Use the blue **Submit Predictions** button to upload your CSV file. Or you can use the Kaggle API to submit your predictions.)\n",
        "- [ ] Commit your notebook to your fork of the GitHub repo.\n",
        "\n",
        "\n",
        "You won't be able to just copy from the lesson notebook to this assignment.\n",
        "\n",
        "- Because the lesson was ***regression***, but the assignment is ***classification.***\n",
        "- Because the lesson used [TargetEncoder](https://contrib.scikit-learn.org/categorical-encoding/targetencoder.html), which doesn't work as-is for _multi-class_ classification.\n",
        "\n",
        "So you will have to adapt the example, which is good real-world practice.\n",
        "\n",
        "1. Use a model for classification, such as [RandomForestClassifier](https://scikit-learn.org/stable/modules/generated/sklearn.ensemble.RandomForestClassifier.html)\n",
        "2. Use hyperparameters that match the classifier, such as `randomforestclassifier__ ...`\n",
        "3. Use a metric for classification, such as [`scoring='accuracy'`](https://scikit-learn.org/stable/modules/model_evaluation.html#common-cases-predefined-values)\n",
        "4. If you’re doing a multi-class classification problem — such as whether a waterpump is functional, functional needs repair, or nonfunctional — then use a categorical encoding that works for multi-class classification, such as [OrdinalEncoder](https://contrib.scikit-learn.org/categorical-encoding/ordinal.html) (not [TargetEncoder](https://contrib.scikit-learn.org/categorical-encoding/targetencoder.html))\n",
        "\n",
        "\n",
        "\n",
        "## Stretch Goals\n",
        "\n",
        "### Reading\n",
        "- Jake VanderPlas, [Python Data Science Handbook, Chapter 5.3](https://jakevdp.github.io/PythonDataScienceHandbook/05.03-hyperparameters-and-model-validation.html), Hyperparameters and Model Validation\n",
        "- Jake VanderPlas, [Statistics for Hackers](https://speakerdeck.com/jakevdp/statistics-for-hackers?slide=107)\n",
        "- Ron Zacharski, [A Programmer's Guide to Data Mining, Chapter 5](http://guidetodatamining.com/chapter5/), 10-fold cross validation\n",
        "- Sebastian Raschka, [A Basic Pipeline and Grid Search Setup](https://github.com/rasbt/python-machine-learning-book/blob/master/code/bonus/svm_iris_pipeline_and_gridsearch.ipynb)\n",
        "- Peter Worcester, [A Comparison of Grid Search and Randomized Search Using Scikit Learn](https://blog.usejournal.com/a-comparison-of-grid-search-and-randomized-search-using-scikit-learn-29823179bc85)\n",
        "\n",
        "### Doing\n",
        "- Add your own stretch goals!\n",
        "- Try other [categorical encodings](https://contrib.scikit-learn.org/categorical-encoding/). See the previous assignment notebook for details.\n",
        "- In additon to `RandomizedSearchCV`, scikit-learn has [`GridSearchCV`](https://scikit-learn.org/stable/modules/generated/sklearn.model_selection.GridSearchCV.html). Another library called scikit-optimize has [`BayesSearchCV`](https://scikit-optimize.github.io/notebooks/sklearn-gridsearchcv-replacement.html). Experiment with these alternatives.\n",
        "- _[Introduction to Machine Learning with Python](http://shop.oreilly.com/product/0636920030515.do)_ discusses options for \"Grid-Searching Which Model To Use\" in Chapter 6:\n",
        "\n",
        "> You can even go further in combining GridSearchCV and Pipeline: it is also possible to search over the actual steps being performed in the pipeline (say whether to use StandardScaler or MinMaxScaler). This leads to an even bigger search space and should be considered carefully. Trying all possible solutions is usually not a viable machine learning strategy. However, here is an example comparing a RandomForestClassifier and an SVC ...\n",
        "\n",
        "The example is shown in [the accompanying notebook](https://github.com/amueller/introduction_to_ml_with_python/blob/master/06-algorithm-chains-and-pipelines.ipynb), code cells 35-37. Could you apply this concept to your own pipelines?\n"
      ]
    },
    {
      "cell_type": "markdown",
      "metadata": {
        "id": "Itw0aOmmoljh",
        "colab_type": "text"
      },
      "source": [
        "### BONUS: Stacking!\n",
        "\n",
        "Here's some code you can use to \"stack\" multiple submissions, which is another form of ensembling:\n",
        "\n",
        "```python\n",
        "import pandas as pd\n",
        "\n",
        "# Filenames of your submissions you want to ensemble\n",
        "files = ['submission-01.csv', 'submission-02.csv', 'submission-03.csv']\n",
        "\n",
        "target = 'status_group'\n",
        "submissions = (pd.read_csv(file)[[target]] for file in files)\n",
        "ensemble = pd.concat(submissions, axis='columns')\n",
        "majority_vote = ensemble.mode(axis='columns')[0]\n",
        "\n",
        "sample_submission = pd.read_csv('sample_submission.csv')\n",
        "submission = sample_submission.copy()\n",
        "submission[target] = majority_vote\n",
        "submission.to_csv('my-ultimate-ensemble-submission.csv', index=False)\n",
        "```"
      ]
    },
    {
      "cell_type": "code",
      "metadata": {
        "id": "GvLIMCt5olji",
        "colab_type": "code",
        "colab": {}
      },
      "source": [
        "%%capture\n",
        "import sys\n",
        "\n",
        "# If you're on Colab:\n",
        "if 'google.colab' in sys.modules:\n",
        "    DATA_PATH = 'https://raw.githubusercontent.com/LambdaSchool/DS-Unit-2-Kaggle-Challenge/master/data/'\n",
        "    !pip install category_encoders==2.*\n",
        "\n",
        "# If you're working locally:\n",
        "else:\n",
        "    DATA_PATH = '../data/'"
      ],
      "execution_count": 0,
      "outputs": []
    },
    {
      "cell_type": "code",
      "metadata": {
        "id": "Q1Ex6Hvpoljp",
        "colab_type": "code",
        "colab": {}
      },
      "source": [
        "import pandas as pd\n",
        "\n",
        "# Merge train_features.csv & train_labels.csv\n",
        "train = pd.merge(pd.read_csv(DATA_PATH+'waterpumps/train_features.csv'), \n",
        "                 pd.read_csv(DATA_PATH+'waterpumps/train_labels.csv'))\n",
        "\n",
        "# Read test_features.csv & sample_submission.csv\n",
        "test = pd.read_csv(DATA_PATH+'waterpumps/test_features.csv')\n",
        "sample_submission = pd.read_csv(DATA_PATH+'waterpumps/sample_submission.csv')"
      ],
      "execution_count": 0,
      "outputs": []
    },
    {
      "cell_type": "code",
      "metadata": {
        "id": "T1LimObZvurG",
        "colab_type": "code",
        "colab": {}
      },
      "source": [
        "import pandas as pd\n",
        "import numpy as np\n",
        "from sklearn.model_selection import train_test_split\n",
        "\n",
        "# Split train into train & val\n",
        "train, val = train_test_split(train, train_size=0.80, test_size=0.20, \n",
        "                              stratify=train['status_group'], random_state=42)"
      ],
      "execution_count": 0,
      "outputs": []
    },
    {
      "cell_type": "code",
      "metadata": {
        "id": "DOVc9Ukgolju",
        "colab_type": "code",
        "colab": {}
      },
      "source": [
        "def cleaning_data(X):\n",
        "  \n",
        "  # Copy before modifying\n",
        "  X = X.copy()\n",
        "  \n",
        "  # Duplicates, near duplicates, missing values\n",
        "  X = X.drop(columns=['payment', 'quantity_group'])\n",
        "  \n",
        "  # About 3% of the time, latitude has small values near zero, outside Tanzania, so we'll treat these values like zero.\n",
        "  X['latitude'] = X['latitude'].replace(-2e-08, 0)\n",
        "  \n",
        "  # Replace zeros with nulls\n",
        "  cols_with_zeros = ['longitude', 'latitude', 'population', 'construction_year',\n",
        "                    'gps_height']\n",
        "  for col in cols_with_zeros:\n",
        "      X[col] = X[col].replace(0, np.nan)\n",
        "      # Create a missing vaules column\n",
        "      X[col+'_missing'] = X[col].isnull()\n",
        "  \n",
        "  # Extract year, month, day from date_recorded\n",
        "  X['date_recorded'] = pd.to_datetime(X['date_recorded'], infer_datetime_format=True)\n",
        "  X['year_recorded'] = X['date_recorded'].dt.year\n",
        "  X['month_recorded'] = X['date_recorded'].dt.month\n",
        "  X['day_recorded'] = X['date_recorded'].dt.day\n",
        "\n",
        "  # Delete date_recorded\n",
        "  X = X.drop(columns='date_recorded')\n",
        "\n",
        "  # Pump inspection\n",
        "  X['pump_i'] = X['year_recorded'] - X['construction_year']\n",
        "\n",
        "  # Replace negative values with null\n",
        "  X['pump_i'] = X['pump_i'].replace([-5, -4, -3, -2, -1, -7], np.nan)\n",
        "\n",
        "  # Create a colum with missing values\n",
        "  X['years_missing'] = X['pump_i'].isnull()\n",
        "  \n",
        "  # Drop random columns\n",
        "  X = X.drop(columns=['recorded_by', 'id'])\n",
        "  \n",
        "  return X"
      ],
      "execution_count": 0,
      "outputs": []
    },
    {
      "cell_type": "code",
      "metadata": {
        "id": "Uw3n_UsTvg2y",
        "colab_type": "code",
        "colab": {}
      },
      "source": [
        "train = cleaning_data(train)\n",
        "val = cleaning_data(val)\n",
        "test = cleaning_data(test)"
      ],
      "execution_count": 0,
      "outputs": []
    },
    {
      "cell_type": "code",
      "metadata": {
        "id": "ldEaNLNswPkh",
        "colab_type": "code",
        "colab": {}
      },
      "source": [
        "# Target\n",
        "target = 'status_group'\n",
        "\n",
        "# Get a dataframe with all train columns except the target\n",
        "train_features = train.drop(columns=[target])\n",
        "\n",
        "# Get a list of the numeric features\n",
        "numeric_features = train_features.select_dtypes(include='number').columns.tolist()\n",
        "\n",
        "# Get a series with the cardinality of the nonnumeric features\n",
        "cardinality = train_features.select_dtypes(exclude='number').nunique()\n",
        "\n",
        "# Get a list of all categorical features with cardinality <= 50\n",
        "categorical_features = cardinality[cardinality <= 50].index.tolist()\n",
        "\n",
        "# Combine the lists \n",
        "features = numeric_features + categorical_features"
      ],
      "execution_count": 0,
      "outputs": []
    },
    {
      "cell_type": "code",
      "metadata": {
        "id": "prrYULgvwQ4T",
        "colab_type": "code",
        "colab": {}
      },
      "source": [
        "# Arrange data into X features matrix and y target vector \n",
        "X_train = train[features]\n",
        "y_train = train[target]\n",
        "X_val = val[features]\n",
        "y_val = val[target]\n",
        "X_test = test[features]"
      ],
      "execution_count": 0,
      "outputs": []
    },
    {
      "cell_type": "markdown",
      "metadata": {
        "id": "iU_Sj7BeweZa",
        "colab_type": "text"
      },
      "source": [
        "# xGBoost parameters"
      ]
    },
    {
      "cell_type": "code",
      "metadata": {
        "id": "2Sxt06QFwXdJ",
        "colab_type": "code",
        "colab": {
          "base_uri": "https://localhost:8080/",
          "height": 34
        },
        "outputId": "3cc1af4a-1e91-447d-df22-ac19a4ffbe93"
      },
      "source": [
        "import xgboost as xgb\n",
        "xgb.__version__"
      ],
      "execution_count": 31,
      "outputs": [
        {
          "output_type": "execute_result",
          "data": {
            "text/plain": [
              "'0.90'"
            ]
          },
          "metadata": {
            "tags": []
          },
          "execution_count": 31
        }
      ]
    },
    {
      "cell_type": "code",
      "metadata": {
        "id": "zWtzE9VwwmPY",
        "colab_type": "code",
        "colab": {
          "base_uri": "https://localhost:8080/",
          "height": 34
        },
        "outputId": "eddbf0b9-6624-425a-be75-c9f59dfd0467"
      },
      "source": [
        "from xgboost import XGBClassifier\n",
        "\n",
        "import category_encoders as ce\n",
        "from sklearn.impute import SimpleImputer\n",
        "from sklearn.ensemble import RandomForestClassifier\n",
        "from sklearn.pipeline import make_pipeline\n",
        "\n",
        "pipeline = make_pipeline(\n",
        "      ce.OrdinalEncoder(),\n",
        "      ce.OneHotEncoder(),\n",
        "      XGBClassifier(booster=\"dart\", n_estimators=82, max_depth=10, learning_rate=0.5, n_jobs=-1,\n",
        "                    scale_pos_imbalance=5)\n",
        ")\n",
        "\n",
        "# Fit on train, score on val\n",
        "pipeline.fit(X_train, y_train)\n",
        "print('Validation Accuracy: ', pipeline.score(X_val, y_val))"
      ],
      "execution_count": 32,
      "outputs": [
        {
          "output_type": "stream",
          "text": [
            "Validation Accuracy:  0.811952861952862\n"
          ],
          "name": "stdout"
        }
      ]
    },
    {
      "cell_type": "code",
      "metadata": {
        "id": "NKYJp_eGwr1Q",
        "colab_type": "code",
        "colab": {
          "base_uri": "https://localhost:8080/",
          "height": 1000
        },
        "outputId": "7ba716ff-a56d-48c2-f445-074cda787ccc"
      },
      "source": [
        "encoder = ce.OrdinalEncoder()\n",
        "X_train_encoded = encoder.fit_transform(X_train)\n",
        "X_val_encoded = encoder.transform(X_val)\n",
        "\n",
        "eval_set = [(X_train_encoded, y_train), \n",
        "            (X_val_encoded, y_val)]\n",
        "\n",
        "model = XGBClassifier(\n",
        "    booster=\"dart\", \n",
        "    n_estimators=82, \n",
        "    max_depth=10, \n",
        "    learning_rate=0.5, \n",
        "    n_jobs=-1,\n",
        "    scale_pos_imbalance=5\n",
        ")\n",
        "\n",
        "model.fit(X_train_encoded, y_train, early_stopping_rounds=50, \n",
        "          eval_metric='merror', eval_set=eval_set)"
      ],
      "execution_count": 33,
      "outputs": [
        {
          "output_type": "stream",
          "text": [
            "[0]\tvalidation_0-merror:0.209259\tvalidation_1-merror:0.237458\n",
            "Multiple eval metrics have been passed: 'validation_1-merror' will be used for early stopping.\n",
            "\n",
            "Will train until validation_1-merror hasn't improved in 50 rounds.\n",
            "[1]\tvalidation_0-merror:0.196275\tvalidation_1-merror:0.224663\n",
            "[2]\tvalidation_0-merror:0.182618\tvalidation_1-merror:0.215236\n",
            "[3]\tvalidation_0-merror:0.173211\tvalidation_1-merror:0.21271\n",
            "[4]\tvalidation_0-merror:0.167193\tvalidation_1-merror:0.209428\n",
            "[5]\tvalidation_0-merror:0.157891\tvalidation_1-merror:0.20505\n",
            "[6]\tvalidation_0-merror:0.149621\tvalidation_1-merror:0.202357\n",
            "[7]\tvalidation_0-merror:0.144634\tvalidation_1-merror:0.202946\n",
            "[8]\tvalidation_0-merror:0.137774\tvalidation_1-merror:0.200505\n",
            "[9]\tvalidation_0-merror:0.135774\tvalidation_1-merror:0.199832\n",
            "[10]\tvalidation_0-merror:0.131166\tvalidation_1-merror:0.199327\n",
            "[11]\tvalidation_0-merror:0.128199\tvalidation_1-merror:0.197475\n",
            "[12]\tvalidation_0-merror:0.124116\tvalidation_1-merror:0.196549\n",
            "[13]\tvalidation_0-merror:0.12117\tvalidation_1-merror:0.196465\n",
            "[14]\tvalidation_0-merror:0.119108\tvalidation_1-merror:0.196044\n",
            "[15]\tvalidation_0-merror:0.114878\tvalidation_1-merror:0.19596\n",
            "[16]\tvalidation_0-merror:0.111785\tvalidation_1-merror:0.196801\n",
            "[17]\tvalidation_0-merror:0.110269\tvalidation_1-merror:0.196717\n",
            "[18]\tvalidation_0-merror:0.107849\tvalidation_1-merror:0.196465\n",
            "[19]\tvalidation_0-merror:0.10463\tvalidation_1-merror:0.19436\n",
            "[20]\tvalidation_0-merror:0.103157\tvalidation_1-merror:0.194276\n",
            "[21]\tvalidation_0-merror:0.101747\tvalidation_1-merror:0.19436\n",
            "[22]\tvalidation_0-merror:0.100168\tvalidation_1-merror:0.194276\n",
            "[23]\tvalidation_0-merror:0.098022\tvalidation_1-merror:0.194192\n",
            "[24]\tvalidation_0-merror:0.096317\tvalidation_1-merror:0.193855\n",
            "[25]\tvalidation_0-merror:0.095539\tvalidation_1-merror:0.194024\n",
            "[26]\tvalidation_0-merror:0.09375\tvalidation_1-merror:0.193266\n",
            "[27]\tvalidation_0-merror:0.092551\tvalidation_1-merror:0.192845\n",
            "[28]\tvalidation_0-merror:0.09053\tvalidation_1-merror:0.193266\n",
            "[29]\tvalidation_0-merror:0.088889\tvalidation_1-merror:0.192508\n",
            "[30]\tvalidation_0-merror:0.087163\tvalidation_1-merror:0.192256\n",
            "[31]\tvalidation_0-merror:0.086132\tvalidation_1-merror:0.192508\n",
            "[32]\tvalidation_0-merror:0.084912\tvalidation_1-merror:0.192508\n",
            "[33]\tvalidation_0-merror:0.083523\tvalidation_1-merror:0.191919\n",
            "[34]\tvalidation_0-merror:0.080976\tvalidation_1-merror:0.192593\n",
            "[35]\tvalidation_0-merror:0.080008\tvalidation_1-merror:0.191582\n",
            "[36]\tvalidation_0-merror:0.078199\tvalidation_1-merror:0.191919\n",
            "[37]\tvalidation_0-merror:0.07742\tvalidation_1-merror:0.191919\n",
            "[38]\tvalidation_0-merror:0.075379\tvalidation_1-merror:0.191667\n",
            "[39]\tvalidation_0-merror:0.074348\tvalidation_1-merror:0.191582\n",
            "[40]\tvalidation_0-merror:0.073316\tvalidation_1-merror:0.192088\n",
            "[41]\tvalidation_0-merror:0.072306\tvalidation_1-merror:0.192172\n",
            "[42]\tvalidation_0-merror:0.070644\tvalidation_1-merror:0.191751\n",
            "[43]\tvalidation_0-merror:0.069465\tvalidation_1-merror:0.190657\n",
            "[44]\tvalidation_0-merror:0.068624\tvalidation_1-merror:0.190488\n",
            "[45]\tvalidation_0-merror:0.067445\tvalidation_1-merror:0.190236\n",
            "[46]\tvalidation_0-merror:0.066646\tvalidation_1-merror:0.190152\n",
            "[47]\tvalidation_0-merror:0.06572\tvalidation_1-merror:0.190488\n",
            "[48]\tvalidation_0-merror:0.06391\tvalidation_1-merror:0.190488\n",
            "[49]\tvalidation_0-merror:0.062584\tvalidation_1-merror:0.190236\n",
            "[50]\tvalidation_0-merror:0.061679\tvalidation_1-merror:0.190067\n",
            "[51]\tvalidation_0-merror:0.06048\tvalidation_1-merror:0.189646\n",
            "[52]\tvalidation_0-merror:0.059428\tvalidation_1-merror:0.189731\n",
            "[53]\tvalidation_0-merror:0.05907\tvalidation_1-merror:0.189478\n",
            "[54]\tvalidation_0-merror:0.058439\tvalidation_1-merror:0.189057\n",
            "[55]\tvalidation_0-merror:0.057576\tvalidation_1-merror:0.188636\n",
            "[56]\tvalidation_0-merror:0.056481\tvalidation_1-merror:0.188552\n",
            "[57]\tvalidation_0-merror:0.055556\tvalidation_1-merror:0.188721\n",
            "[58]\tvalidation_0-merror:0.054314\tvalidation_1-merror:0.188636\n",
            "[59]\tvalidation_0-merror:0.053367\tvalidation_1-merror:0.188721\n",
            "[60]\tvalidation_0-merror:0.051684\tvalidation_1-merror:0.188805\n",
            "[61]\tvalidation_0-merror:0.050526\tvalidation_1-merror:0.188047\n",
            "[62]\tvalidation_0-merror:0.05\tvalidation_1-merror:0.187879\n",
            "[63]\tvalidation_0-merror:0.049074\tvalidation_1-merror:0.188721\n",
            "[64]\tvalidation_0-merror:0.04819\tvalidation_1-merror:0.188973\n",
            "[65]\tvalidation_0-merror:0.047559\tvalidation_1-merror:0.189141\n",
            "[66]\tvalidation_0-merror:0.046359\tvalidation_1-merror:0.1883\n",
            "[67]\tvalidation_0-merror:0.045833\tvalidation_1-merror:0.188636\n",
            "[68]\tvalidation_0-merror:0.045055\tvalidation_1-merror:0.188468\n",
            "[69]\tvalidation_0-merror:0.044423\tvalidation_1-merror:0.188805\n",
            "[70]\tvalidation_0-merror:0.044066\tvalidation_1-merror:0.188468\n",
            "[71]\tvalidation_0-merror:0.043687\tvalidation_1-merror:0.188889\n",
            "[72]\tvalidation_0-merror:0.042803\tvalidation_1-merror:0.188468\n",
            "[73]\tvalidation_0-merror:0.042361\tvalidation_1-merror:0.189141\n",
            "[74]\tvalidation_0-merror:0.041751\tvalidation_1-merror:0.189141\n",
            "[75]\tvalidation_0-merror:0.040972\tvalidation_1-merror:0.188973\n",
            "[76]\tvalidation_0-merror:0.040383\tvalidation_1-merror:0.189226\n",
            "[77]\tvalidation_0-merror:0.03971\tvalidation_1-merror:0.189394\n",
            "[78]\tvalidation_0-merror:0.039289\tvalidation_1-merror:0.18931\n",
            "[79]\tvalidation_0-merror:0.038847\tvalidation_1-merror:0.188636\n",
            "[80]\tvalidation_0-merror:0.037942\tvalidation_1-merror:0.188468\n",
            "[81]\tvalidation_0-merror:0.036848\tvalidation_1-merror:0.188047\n"
          ],
          "name": "stdout"
        },
        {
          "output_type": "execute_result",
          "data": {
            "text/plain": [
              "XGBClassifier(base_score=0.5, booster='dart', colsample_bylevel=1,\n",
              "              colsample_bynode=1, colsample_bytree=1, gamma=0,\n",
              "              learning_rate=0.5, max_delta_step=0, max_depth=10,\n",
              "              min_child_weight=1, missing=None, n_estimators=82, n_jobs=-1,\n",
              "              nthread=None, objective='multi:softprob', random_state=0,\n",
              "              reg_alpha=0, reg_lambda=1, scale_pos_imbalance=5,\n",
              "              scale_pos_weight=1, seed=None, silent=None, subsample=1,\n",
              "              verbosity=1)"
            ]
          },
          "metadata": {
            "tags": []
          },
          "execution_count": 33
        }
      ]
    },
    {
      "cell_type": "code",
      "metadata": {
        "id": "RLhM0QJDw-Vi",
        "colab_type": "code",
        "colab": {}
      },
      "source": [
        "y_pred = pipeline.predict(X_test)"
      ],
      "execution_count": 0,
      "outputs": []
    },
    {
      "cell_type": "code",
      "metadata": {
        "id": "Ki64UKUQxGWC",
        "colab_type": "code",
        "colab": {}
      },
      "source": [
        "submission = sample_submission.copy()\n",
        "submission['status_group'] = y_pred\n",
        "submission.to_csv('Pedro_Escobedo_submission_Cross_Validation.csv', index=False)"
      ],
      "execution_count": 0,
      "outputs": []
    }
  ]
}